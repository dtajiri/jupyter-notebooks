{
 "cells": [
  {
   "cell_type": "code",
   "execution_count": 1,
   "metadata": {},
   "outputs": [],
   "source": [
    "import numpy as np\n",
    "import cv2\n",
    "import matplotlib.pyplot as plt"
   ]
  },
  {
   "cell_type": "code",
   "execution_count": 2,
   "metadata": {},
   "outputs": [
    {
     "name": "stdout",
     "output_type": "stream",
     "text": [
      "[[ 66 -10  16  14  65]\n",
      " [-91  28  97 -42   4]\n",
      " [ 13  50 -96  92 -85]\n",
      " [ 21 -96  49  34  93]\n",
      " [-53  96  80  96 -68]]\n",
      "[[1 1 0 1 0]\n",
      " [1 0 1 1 1]\n",
      " [0 0 0 1 0]\n",
      " [1 1 0 0 1]\n",
      " [0 0 1 1 0]]\n"
     ]
    }
   ],
   "source": [
    "#P1.i\n",
    "\n",
    "A = np.array([[66, -10, 16, 14, 65], [-91, 28, 97, -42 ,4],[13, 50, -96, 92, -85],\n",
    "              [21, -96, 49, 34, 93],[-53, 96, 80, 96, -68]])\n",
    "print(A)\n",
    "B = np.array([[1, 1, 0, 1, 0], [1, 0, 1, 1, 1,], [0, 0, 0, 1, 0,], [1, 1, 0, 0, 1,], \n",
    "              [0, 0, 1, 1, 0]])\n",
    "print(B)"
   ]
  },
  {
   "cell_type": "code",
   "execution_count": 3,
   "metadata": {},
   "outputs": [
    {
     "name": "stdout",
     "output_type": "stream",
     "text": [
      "(array([1, 2, 2, 3]), array([0, 2, 4, 1]))\n"
     ]
    }
   ],
   "source": [
    "#P1.ii\n",
    "\n",
    "x = np.where(A < -70)\n",
    "print(x)"
   ]
  },
  {
   "cell_type": "code",
   "execution_count": 4,
   "metadata": {},
   "outputs": [
    {
     "name": "stdout",
     "output_type": "stream",
     "text": [
      "[[ 66 -10   0  14   0]\n",
      " [-91   0  97 -42   4]\n",
      " [  0   0   0  92   0]\n",
      " [ 21 -96   0   0  93]\n",
      " [  0   0  80  96   0]]\n"
     ]
    }
   ],
   "source": [
    "#P1.iii\n",
    "\n",
    "C = np.multiply(A,B)\n",
    "print(C)"
   ]
  },
  {
   "cell_type": "code",
   "execution_count": 5,
   "metadata": {},
   "outputs": [
    {
     "name": "stdout",
     "output_type": "stream",
     "text": [
      "[ 0  0 80 96  0]\n",
      "[ 0 97  0  0 80]\n"
     ]
    }
   ],
   "source": [
    "#P1.iv\n",
    "\n",
    "ip3c5r = np.inner(C[4,:],C[:,2])\n",
    "print(C[4,:])\n",
    "print(C[:,2])"
   ]
  },
  {
   "cell_type": "code",
   "execution_count": 6,
   "metadata": {},
   "outputs": [
    {
     "name": "stdout",
     "output_type": "stream",
     "text": [
      "96\n",
      "(array([4]), array([3]))\n"
     ]
    }
   ],
   "source": [
    "#P1.v\n",
    "\n",
    "fcmax = np.amax(C[:,3])\n",
    "print(fcmax)\n",
    "ifcmax = np.where(C == 96)\n",
    "print(ifcmax)"
   ]
  },
  {
   "cell_type": "code",
   "execution_count": 7,
   "metadata": {},
   "outputs": [
    {
     "name": "stdout",
     "output_type": "stream",
     "text": [
      "[[ 4356   100     0   196     0]\n",
      " [-6006     0     0  -588     0]\n",
      " [    0     0     0  1288     0]\n",
      " [ 1386   960     0     0     0]\n",
      " [    0     0     0  1344     0]]\n"
     ]
    }
   ],
   "source": [
    "#P1.vi\n",
    "\n",
    "D = np.array([C[0,:]*C[0,:], C[0,:]*C[1,:], C[0,:]*C[2,:], C[0,:]*C[3,:], C[0,:]*C[4,:]])\n",
    "print(D)"
   ]
  },
  {
   "cell_type": "code",
   "execution_count": 8,
   "metadata": {},
   "outputs": [
    {
     "name": "stdout",
     "output_type": "stream",
     "text": [
      "[[ 18974736     10000         0     38416         0]\n",
      " [-26162136         0         0   -115248         0]\n",
      " [        0         0         0    252448         0]\n",
      " [  6037416     96000         0         0         0]\n",
      " [        0         0         0    263424         0]]\n"
     ]
    }
   ],
   "source": [
    "#P1.vii\n",
    "\n",
    "E = np.array([D[0,:]*D[0,:], D[0,:]*D[1,:], D[0,:]*D[2,:], D[0,:]*D[3,:], D[0,:]*D[4,:]])\n",
    "print(E)"
   ]
  },
  {
   "cell_type": "code",
   "execution_count": null,
   "metadata": {},
   "outputs": [],
   "source": [
    "\n",
    "    # START\n",
    "    if haveIBeenHereBefore(loc, nextStep) is True:\n",
    "        nextStep = loc[-1] + np.array([0, -1])\n",
    "    if detectObject(loc, obj, 'S'):\n",
    "        nextStep = loc[-1] + np.array([0, -1])\n",
    "        if detectObject(loc, obj, 'W' ):\n",
    "            nextStep = loc[-1] + np.array([0, 1])\n",
    "            if detectObject(loc, obj,'E'):\n",
    "                nextStep = loc[-1] + np.array([-1, 0])       \n",
    "    # STOP\n"
   ]
  },
  {
   "cell_type": "code",
   "execution_count": 9,
   "metadata": {},
   "outputs": [
    {
     "name": "stdout",
     "output_type": "stream",
     "text": [
      "The accuracy of question 1 is 1.000000\n",
      "\n",
      "The accuracy of question 2 is 1.000000\n",
      "\n",
      "The accuracy of question 3 is 1.000000\n",
      "\n",
      "The accuracy of question 4 is 1.000000\n",
      "\n"
     ]
    }
   ],
   "source": [
    "from PIL import Image\n",
    "import numpy as np\n",
    "import matplotlib.pyplot as plt\n",
    "import random\n",
    "from skimage import draw\n",
    "import cv2\n",
    "\n",
    "def generate_one_shape(numSides, orientation):\n",
    "    xCenter = random.randint(200,300)\n",
    "    yCenter = random.randint(200,300)\n",
    "    theta = np.linspace(0, 2*np.pi, numSides + 1)\n",
    "    theta = theta - np.pi/orientation;\n",
    "    radius = random.randint(40,150)\n",
    "    x = radius * np.cos(theta) + xCenter;\n",
    "    y = radius * np.sin(theta) + yCenter;\n",
    "    binaryImage = poly2mask(x, y, (500, 500))\n",
    "    return binaryImage\n",
    "\n",
    "def poly2mask(vertex_row_coords, vertex_col_coords, shape):\n",
    "    fill_row_coords, fill_col_coords = draw.polygon(vertex_row_coords, vertex_col_coords, shape)\n",
    "    mask = np.zeros(shape, dtype=np.bool)\n",
    "    mask[fill_row_coords, fill_col_coords] = True\n",
    "    return mask\n",
    "\n",
    "def generator1():\n",
    "    empty = np.zeros((500,500))\n",
    "    label = random.randint(0, 1)\n",
    "    shape = random.randint(3, 4)\n",
    "    orientation = random.randint(1, 6)\n",
    "    test_img = generate_one_shape(shape, orientation)\n",
    "    if label == 0:\n",
    "        orientation = random.randint(1, 6)\n",
    "        A = generate_one_shape(shape, orientation)\n",
    "        B = empty\n",
    "    else:\n",
    "        A = empty\n",
    "        orientation = random.randint(1, 6)\n",
    "        B = generate_one_shape(shape, orientation)\n",
    "    return A,B, test_img, label\n",
    "\n",
    "def generator2():\n",
    "    label = random.randint(0, 1)\n",
    "    shape = random.randint(3, 4)\n",
    "    orientation = random.randint(1, 10)\n",
    "    test_img = generate_one_shape(shape, orientation)\n",
    "    orientation = random.randint(1, 10)\n",
    "    if label == 0:\n",
    "        A = test_img\n",
    "        B = generate_one_shape(7-shape, orientation)\n",
    "    else:\n",
    "        A = generate_one_shape(7-shape, orientation)\n",
    "        B = test_img\n",
    "    return A,B, test_img, label\n",
    "\n",
    "def generator3():\n",
    "    label = random.randint(0, 1)\n",
    "    orientation = random.randint(1, 10)\n",
    "    test_img = generate_one_shape(3, orientation)\n",
    "    orientation = random.randint(1, 10)\n",
    "    if label == 0:\n",
    "        A = generate_one_shape(3, orientation)\n",
    "        B = generate_one_shape(4, orientation)\n",
    "    else:\n",
    "        A = generate_one_shape(4, orientation)\n",
    "        B = generate_one_shape(3, orientation)\n",
    "    return A,B, test_img, label\n",
    "\n",
    "def generator4():\n",
    "    label = random.randint(0, 1)\n",
    "    shape = random.randint(3, 6)\n",
    "    if label == 0:\n",
    "        orientation = random.randint(1, 10)\n",
    "        test_img = generate_one_shape(shape, orientation)\n",
    "        orientation = random.randint(1, 10)\n",
    "        A = generate_one_shape(shape, orientation)\n",
    "        orientation = random.randint(1, 10)\n",
    "        B = generate_one_shape(9-shape, orientation)\n",
    "    else:\n",
    "        orientation = random.randint(1, 10)\n",
    "        test_img = generate_one_shape(shape, orientation)\n",
    "        orientation = random.randint(1, 10)\n",
    "        A = generate_one_shape(9-shape, orientation)\n",
    "        orientation = random.randint(1, 10)\n",
    "        B = generate_one_shape(shape, orientation)\n",
    "    return A,B, test_img, label\n",
    "\n",
    "def classifier1(A, B, test_img):\n",
    "    nothing = np.zeros((500,500))\n",
    "    if np.all(A == nothing):    \n",
    "        return 1\n",
    "    elif np.all(B == nothing):\n",
    "        return 0\n",
    "    else:\n",
    "        return 0\n",
    "\n",
    "def classifier2(A, B, test_img):\n",
    "    if np.all(A == test_img):    \n",
    "        return 0\n",
    "    elif np.all(B == test_img):\n",
    "        return 1\n",
    "    else:\n",
    "        return 0\n",
    "\n",
    "def classifier3(A, B, test_img):\n",
    "    pil_img0 = Image.fromarray(A) \n",
    "    img0 = np.uint8(pil_img0)          \n",
    "    contours0,h = cv2.findContours(img0,1,2)\n",
    "    for cnt0 in contours0:\n",
    "        approx0 = cv2.approxPolyDP(cnt0,0.01*cv2.arcLength(cnt0,True),True)\n",
    "\n",
    "    pil_imgt = Image.fromarray(test_img)     \n",
    "    imgt = np.uint8(pil_imgt)          \n",
    "    contours,h = cv2.findContours(imgt,1,2)\n",
    "    for cnt in contours:\n",
    "        approx = cv2.approxPolyDP(cnt,0.01*cv2.arcLength(cnt,True),True)\n",
    "    if len(approx) == len(approx0):\n",
    "        return 0\n",
    "    elif len(approx) != len(approx0):\n",
    "        return 1\n",
    "\n",
    "def classifier4(A, B, test_img):\n",
    "    pil_img0 = Image.fromarray(A)     \n",
    "    img0 = np.uint8(pil_img0)          \n",
    "    contours0,h = cv2.findContours(img0,1,2)\n",
    "    for cnt0 in contours0:\n",
    "        approx0 = cv2.approxPolyDP(cnt0,0.01*cv2.arcLength(cnt0,True),True)\n",
    "\n",
    "    pil_imgt = Image.fromarray(test_img)    \n",
    "    imgt = np.uint8(pil_imgt)          \n",
    "    contours,h = cv2.findContours(imgt,1,2)\n",
    "    for cnt in contours:\n",
    "        approx = cv2.approxPolyDP(cnt,0.01*cv2.arcLength(cnt,True),True)\n",
    "    if len(approx) == len(approx0):\n",
    "        return 0\n",
    "    elif len(approx) != len(approx0):\n",
    "        return 1\n",
    "    return 0\n",
    "\n",
    "for i in range(4):\n",
    "    correct_count = 0\n",
    "    for j in range(100):\n",
    "        if i == 0:\n",
    "            block0,block1,test_img,label = generator1()\n",
    "            output = classifier1(block0,block1,test_img)\n",
    "        elif i == 1:\n",
    "            block0,block1,test_img,label = generator2()\n",
    "            output = classifier2(block0,block1,test_img)\n",
    "        elif i == 2:\n",
    "            block0,block1,test_img,label = generator3()\n",
    "            output = classifier3(block0,block1,test_img)\n",
    "        else: \n",
    "            block0,block1,test_img,label = generator4()\n",
    "            output = classifier4(block0,block1,test_img)\n",
    "        if output == label:\n",
    "            correct_count += 1\n",
    "    accuracy = correct_count / 100\n",
    "    print('The accuracy of question %d is %f\\n'%(i+1,accuracy))"
   ]
  },
  {
   "cell_type": "code",
   "execution_count": null,
   "metadata": {},
   "outputs": [],
   "source": []
  }
 ],
 "metadata": {
  "kernelspec": {
   "display_name": "Python 3",
   "language": "python",
   "name": "python3"
  },
  "language_info": {
   "codemirror_mode": {
    "name": "ipython",
    "version": 3
   },
   "file_extension": ".py",
   "mimetype": "text/x-python",
   "name": "python",
   "nbconvert_exporter": "python",
   "pygments_lexer": "ipython3",
   "version": "3.8.5"
  }
 },
 "nbformat": 4,
 "nbformat_minor": 4
}

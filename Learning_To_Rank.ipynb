{
  "cells": [
    {
      "cell_type": "markdown",
      "metadata": {
        "id": "view-in-github",
        "colab_type": "text"
      },
      "source": [
        "<a href=\"https://colab.research.google.com/github/dtajiri/jupyter-notebooks/blob/master/Learning_To_Rank.ipynb\" target=\"_parent\"><img src=\"https://colab.research.google.com/assets/colab-badge.svg\" alt=\"Open In Colab\"/></a>"
      ]
    },
    {
      "cell_type": "markdown",
      "metadata": {
        "id": "GKrjg_MS-5_t"
      },
      "source": [
        "# The Model"
      ]
    },
    {
      "cell_type": "markdown",
      "source": [
        "### ***Disclaimer: The colab was ran locally due to limited RAM when connected to a hosted runtime\n",
        "\n",
        "### path directory can be modified to run on viewer's local machine\n"
      ],
      "metadata": {
        "id": "kh9zlJAYN1KJ"
      }
    },
    {
      "cell_type": "markdown",
      "metadata": {
        "id": "Pdtz-fNP-eq7"
      },
      "source": [
        "### 1) Imports"
      ]
    },
    {
      "cell_type": "code",
      "execution_count": null,
      "metadata": {
        "id": "vQbF5lfeQ7B-"
      },
      "outputs": [],
      "source": [
        "# Import dependencies here\n",
        "import numpy as np\n",
        "import pandas as pd\n",
        "import matplotlib.pyplot as plt\n",
        "import xgboost as xgb\n",
        "\n",
        "from sklearn.linear_model import LinearRegression\n",
        "from sklearn.metrics import mean_squared_error"
      ]
    },
    {
      "cell_type": "markdown",
      "metadata": {
        "id": "1am1Iv_LWR2W"
      },
      "source": [
        "### 2) Download Dataset"
      ]
    },
    {
      "cell_type": "code",
      "execution_count": null,
      "metadata": {
        "id": "-xdQI3jD4wiY",
        "outputId": "00370d8b-bf9d-4c0d-fa6d-38be169e4787",
        "colab": {
          "base_uri": "https://localhost:8080/",
          "height": 443
        }
      },
      "outputs": [
        {
          "output_type": "execute_result",
          "data": {
            "text/plain": [
              "        0          1    2    3    4    5    6    7          8           9    \\\n",
              "0         2      qid:1  1:3  2:3  3:0  4:0  5:3  6:1        7:1         8:0   \n",
              "1         2      qid:1  1:3  2:0  3:3  4:0  5:3  6:1        7:0         8:1   \n",
              "2         0      qid:1  1:3  2:0  3:2  4:0  5:3  6:1        7:0  8:0.666667   \n",
              "3         2      qid:1  1:3  2:0  3:3  4:0  5:3  6:1        7:0         8:1   \n",
              "4         1      qid:1  1:3  2:0  3:3  4:0  5:3  6:1        7:0         8:1   \n",
              "...     ...        ...  ...  ...  ...  ...  ...  ...        ...         ...   \n",
              "723407    0  qid:29992  1:2  2:0  3:1  4:1  5:2  6:1        7:0   8:0.50000   \n",
              "723408    0  qid:29992  1:2  2:1  3:1  4:1  5:2  6:1  7:0.50000   8:0.50000   \n",
              "723409    0  qid:29992  1:2  2:2  3:2  4:2  5:2  6:1        7:1         8:1   \n",
              "723410    0  qid:29992  1:2  2:0  3:0  4:0  5:2  6:1        7:0         8:0   \n",
              "723411    1  qid:29992  1:2  2:1  3:1  4:0  5:2  6:1  7:0.50000   8:0.50000   \n",
              "\n",
              "        ...           129     130        131        132     133     134  \\\n",
              "0       ...  128:11089534   129:2    130:116  131:64034  132:13   133:3   \n",
              "1       ...  128:11089534   129:2    130:124  131:64034   132:1   133:2   \n",
              "2       ...         128:3   129:1    130:124   131:3344  132:14  133:67   \n",
              "3       ...  128:11089534  129:13    130:123  131:63933   132:1   133:3   \n",
              "4       ...         128:5   129:7    130:256  131:49697   132:1  133:13   \n",
              "...     ...           ...     ...        ...        ...     ...     ...   \n",
              "723407  ...         128:7   129:2  130:13829  131:35302  132:21   133:8   \n",
              "723408  ...         128:0   129:0  130:26074  131:35101  132:14   133:7   \n",
              "723409  ...        128:11   129:2   130:2995  131:62170   132:4   133:8   \n",
              "723410  ...         128:0   129:0    130:138  131:56419   132:4   133:3   \n",
              "723411  ...       128:131   129:0  130:13556  131:25675   132:2  133:12   \n",
              "\n",
              "          135    136    137 138  \n",
              "0       134:0  135:0  136:0 NaN  \n",
              "1       134:0  135:0  136:0 NaN  \n",
              "2       134:0  135:0  136:0 NaN  \n",
              "3       134:0  135:0  136:0 NaN  \n",
              "4       134:0  135:0  136:0 NaN  \n",
              "...       ...    ...    ...  ..  \n",
              "723407  134:0  135:0  136:0 NaN  \n",
              "723408  134:1  135:0  136:0 NaN  \n",
              "723409  134:0  135:0  136:0 NaN  \n",
              "723410  134:0  135:0  136:0 NaN  \n",
              "723411  134:0  135:0  136:0 NaN  \n",
              "\n",
              "[723412 rows x 139 columns]"
            ],
            "text/html": [
              "<div>\n",
              "<style scoped>\n",
              "    .dataframe tbody tr th:only-of-type {\n",
              "        vertical-align: middle;\n",
              "    }\n",
              "\n",
              "    .dataframe tbody tr th {\n",
              "        vertical-align: top;\n",
              "    }\n",
              "\n",
              "    .dataframe thead th {\n",
              "        text-align: right;\n",
              "    }\n",
              "</style>\n",
              "<table border=\"1\" class=\"dataframe\">\n",
              "  <thead>\n",
              "    <tr style=\"text-align: right;\">\n",
              "      <th></th>\n",
              "      <th>0</th>\n",
              "      <th>1</th>\n",
              "      <th>2</th>\n",
              "      <th>3</th>\n",
              "      <th>4</th>\n",
              "      <th>5</th>\n",
              "      <th>6</th>\n",
              "      <th>7</th>\n",
              "      <th>8</th>\n",
              "      <th>9</th>\n",
              "      <th>...</th>\n",
              "      <th>129</th>\n",
              "      <th>130</th>\n",
              "      <th>131</th>\n",
              "      <th>132</th>\n",
              "      <th>133</th>\n",
              "      <th>134</th>\n",
              "      <th>135</th>\n",
              "      <th>136</th>\n",
              "      <th>137</th>\n",
              "      <th>138</th>\n",
              "    </tr>\n",
              "  </thead>\n",
              "  <tbody>\n",
              "    <tr>\n",
              "      <th>0</th>\n",
              "      <td>2</td>\n",
              "      <td>qid:1</td>\n",
              "      <td>1:3</td>\n",
              "      <td>2:3</td>\n",
              "      <td>3:0</td>\n",
              "      <td>4:0</td>\n",
              "      <td>5:3</td>\n",
              "      <td>6:1</td>\n",
              "      <td>7:1</td>\n",
              "      <td>8:0</td>\n",
              "      <td>...</td>\n",
              "      <td>128:11089534</td>\n",
              "      <td>129:2</td>\n",
              "      <td>130:116</td>\n",
              "      <td>131:64034</td>\n",
              "      <td>132:13</td>\n",
              "      <td>133:3</td>\n",
              "      <td>134:0</td>\n",
              "      <td>135:0</td>\n",
              "      <td>136:0</td>\n",
              "      <td>NaN</td>\n",
              "    </tr>\n",
              "    <tr>\n",
              "      <th>1</th>\n",
              "      <td>2</td>\n",
              "      <td>qid:1</td>\n",
              "      <td>1:3</td>\n",
              "      <td>2:0</td>\n",
              "      <td>3:3</td>\n",
              "      <td>4:0</td>\n",
              "      <td>5:3</td>\n",
              "      <td>6:1</td>\n",
              "      <td>7:0</td>\n",
              "      <td>8:1</td>\n",
              "      <td>...</td>\n",
              "      <td>128:11089534</td>\n",
              "      <td>129:2</td>\n",
              "      <td>130:124</td>\n",
              "      <td>131:64034</td>\n",
              "      <td>132:1</td>\n",
              "      <td>133:2</td>\n",
              "      <td>134:0</td>\n",
              "      <td>135:0</td>\n",
              "      <td>136:0</td>\n",
              "      <td>NaN</td>\n",
              "    </tr>\n",
              "    <tr>\n",
              "      <th>2</th>\n",
              "      <td>0</td>\n",
              "      <td>qid:1</td>\n",
              "      <td>1:3</td>\n",
              "      <td>2:0</td>\n",
              "      <td>3:2</td>\n",
              "      <td>4:0</td>\n",
              "      <td>5:3</td>\n",
              "      <td>6:1</td>\n",
              "      <td>7:0</td>\n",
              "      <td>8:0.666667</td>\n",
              "      <td>...</td>\n",
              "      <td>128:3</td>\n",
              "      <td>129:1</td>\n",
              "      <td>130:124</td>\n",
              "      <td>131:3344</td>\n",
              "      <td>132:14</td>\n",
              "      <td>133:67</td>\n",
              "      <td>134:0</td>\n",
              "      <td>135:0</td>\n",
              "      <td>136:0</td>\n",
              "      <td>NaN</td>\n",
              "    </tr>\n",
              "    <tr>\n",
              "      <th>3</th>\n",
              "      <td>2</td>\n",
              "      <td>qid:1</td>\n",
              "      <td>1:3</td>\n",
              "      <td>2:0</td>\n",
              "      <td>3:3</td>\n",
              "      <td>4:0</td>\n",
              "      <td>5:3</td>\n",
              "      <td>6:1</td>\n",
              "      <td>7:0</td>\n",
              "      <td>8:1</td>\n",
              "      <td>...</td>\n",
              "      <td>128:11089534</td>\n",
              "      <td>129:13</td>\n",
              "      <td>130:123</td>\n",
              "      <td>131:63933</td>\n",
              "      <td>132:1</td>\n",
              "      <td>133:3</td>\n",
              "      <td>134:0</td>\n",
              "      <td>135:0</td>\n",
              "      <td>136:0</td>\n",
              "      <td>NaN</td>\n",
              "    </tr>\n",
              "    <tr>\n",
              "      <th>4</th>\n",
              "      <td>1</td>\n",
              "      <td>qid:1</td>\n",
              "      <td>1:3</td>\n",
              "      <td>2:0</td>\n",
              "      <td>3:3</td>\n",
              "      <td>4:0</td>\n",
              "      <td>5:3</td>\n",
              "      <td>6:1</td>\n",
              "      <td>7:0</td>\n",
              "      <td>8:1</td>\n",
              "      <td>...</td>\n",
              "      <td>128:5</td>\n",
              "      <td>129:7</td>\n",
              "      <td>130:256</td>\n",
              "      <td>131:49697</td>\n",
              "      <td>132:1</td>\n",
              "      <td>133:13</td>\n",
              "      <td>134:0</td>\n",
              "      <td>135:0</td>\n",
              "      <td>136:0</td>\n",
              "      <td>NaN</td>\n",
              "    </tr>\n",
              "    <tr>\n",
              "      <th>...</th>\n",
              "      <td>...</td>\n",
              "      <td>...</td>\n",
              "      <td>...</td>\n",
              "      <td>...</td>\n",
              "      <td>...</td>\n",
              "      <td>...</td>\n",
              "      <td>...</td>\n",
              "      <td>...</td>\n",
              "      <td>...</td>\n",
              "      <td>...</td>\n",
              "      <td>...</td>\n",
              "      <td>...</td>\n",
              "      <td>...</td>\n",
              "      <td>...</td>\n",
              "      <td>...</td>\n",
              "      <td>...</td>\n",
              "      <td>...</td>\n",
              "      <td>...</td>\n",
              "      <td>...</td>\n",
              "      <td>...</td>\n",
              "      <td>...</td>\n",
              "    </tr>\n",
              "    <tr>\n",
              "      <th>723407</th>\n",
              "      <td>0</td>\n",
              "      <td>qid:29992</td>\n",
              "      <td>1:2</td>\n",
              "      <td>2:0</td>\n",
              "      <td>3:1</td>\n",
              "      <td>4:1</td>\n",
              "      <td>5:2</td>\n",
              "      <td>6:1</td>\n",
              "      <td>7:0</td>\n",
              "      <td>8:0.50000</td>\n",
              "      <td>...</td>\n",
              "      <td>128:7</td>\n",
              "      <td>129:2</td>\n",
              "      <td>130:13829</td>\n",
              "      <td>131:35302</td>\n",
              "      <td>132:21</td>\n",
              "      <td>133:8</td>\n",
              "      <td>134:0</td>\n",
              "      <td>135:0</td>\n",
              "      <td>136:0</td>\n",
              "      <td>NaN</td>\n",
              "    </tr>\n",
              "    <tr>\n",
              "      <th>723408</th>\n",
              "      <td>0</td>\n",
              "      <td>qid:29992</td>\n",
              "      <td>1:2</td>\n",
              "      <td>2:1</td>\n",
              "      <td>3:1</td>\n",
              "      <td>4:1</td>\n",
              "      <td>5:2</td>\n",
              "      <td>6:1</td>\n",
              "      <td>7:0.50000</td>\n",
              "      <td>8:0.50000</td>\n",
              "      <td>...</td>\n",
              "      <td>128:0</td>\n",
              "      <td>129:0</td>\n",
              "      <td>130:26074</td>\n",
              "      <td>131:35101</td>\n",
              "      <td>132:14</td>\n",
              "      <td>133:7</td>\n",
              "      <td>134:1</td>\n",
              "      <td>135:0</td>\n",
              "      <td>136:0</td>\n",
              "      <td>NaN</td>\n",
              "    </tr>\n",
              "    <tr>\n",
              "      <th>723409</th>\n",
              "      <td>0</td>\n",
              "      <td>qid:29992</td>\n",
              "      <td>1:2</td>\n",
              "      <td>2:2</td>\n",
              "      <td>3:2</td>\n",
              "      <td>4:2</td>\n",
              "      <td>5:2</td>\n",
              "      <td>6:1</td>\n",
              "      <td>7:1</td>\n",
              "      <td>8:1</td>\n",
              "      <td>...</td>\n",
              "      <td>128:11</td>\n",
              "      <td>129:2</td>\n",
              "      <td>130:2995</td>\n",
              "      <td>131:62170</td>\n",
              "      <td>132:4</td>\n",
              "      <td>133:8</td>\n",
              "      <td>134:0</td>\n",
              "      <td>135:0</td>\n",
              "      <td>136:0</td>\n",
              "      <td>NaN</td>\n",
              "    </tr>\n",
              "    <tr>\n",
              "      <th>723410</th>\n",
              "      <td>0</td>\n",
              "      <td>qid:29992</td>\n",
              "      <td>1:2</td>\n",
              "      <td>2:0</td>\n",
              "      <td>3:0</td>\n",
              "      <td>4:0</td>\n",
              "      <td>5:2</td>\n",
              "      <td>6:1</td>\n",
              "      <td>7:0</td>\n",
              "      <td>8:0</td>\n",
              "      <td>...</td>\n",
              "      <td>128:0</td>\n",
              "      <td>129:0</td>\n",
              "      <td>130:138</td>\n",
              "      <td>131:56419</td>\n",
              "      <td>132:4</td>\n",
              "      <td>133:3</td>\n",
              "      <td>134:0</td>\n",
              "      <td>135:0</td>\n",
              "      <td>136:0</td>\n",
              "      <td>NaN</td>\n",
              "    </tr>\n",
              "    <tr>\n",
              "      <th>723411</th>\n",
              "      <td>1</td>\n",
              "      <td>qid:29992</td>\n",
              "      <td>1:2</td>\n",
              "      <td>2:1</td>\n",
              "      <td>3:1</td>\n",
              "      <td>4:0</td>\n",
              "      <td>5:2</td>\n",
              "      <td>6:1</td>\n",
              "      <td>7:0.50000</td>\n",
              "      <td>8:0.50000</td>\n",
              "      <td>...</td>\n",
              "      <td>128:131</td>\n",
              "      <td>129:0</td>\n",
              "      <td>130:13556</td>\n",
              "      <td>131:25675</td>\n",
              "      <td>132:2</td>\n",
              "      <td>133:12</td>\n",
              "      <td>134:0</td>\n",
              "      <td>135:0</td>\n",
              "      <td>136:0</td>\n",
              "      <td>NaN</td>\n",
              "    </tr>\n",
              "  </tbody>\n",
              "</table>\n",
              "<p>723412 rows × 139 columns</p>\n",
              "</div>"
            ]
          },
          "metadata": {},
          "execution_count": 2
        }
      ],
      "source": [
        "# Download the dataset located at https://storage.googleapis.com/personalization-takehome/MSLR-WEB10K.zip\n",
        "# You can read about the features included in the dataset here: \n",
        "# https://www.microsoft.com/en-us/research/project/mslr/\n",
        "\n",
        "# Load dataset\n",
        "train = pd.read_csv('Downloads/MSLRWEB10K/Fold1/train.txt', sep=' ', header=None)\n",
        "test = pd.read_csv('Downloads/MSLRWEB10K/Fold1/test.txt', sep=' ', header=None)\n",
        "val = pd.read_csv('Downloads/MSLRWEB10K/Fold1/vali.txt', sep=' ', header=None)\n",
        "\n",
        "# visualize raw data frame\n",
        "train"
      ]
    },
    {
      "cell_type": "markdown",
      "metadata": {
        "id": "aQdKuIDNWVb8"
      },
      "source": [
        "### 3) Preprocess and evaluate the dataset"
      ]
    },
    {
      "cell_type": "code",
      "execution_count": null,
      "metadata": {
        "id": "WHEqbC9sOrvb"
      },
      "outputs": [],
      "source": [
        "# Create a dict to rename columns of the data frame\n",
        "d = dict()\n",
        "d[0] = 'relevance'\n",
        "d[1] = 'qid'\n",
        "for x in range(2,138):\n",
        "    d[x]=f'{x-1}'\n",
        "\n",
        "# change format of data so that table entries dont include the lables (i.e 'qid' and the feature number)\n",
        "\n",
        "# train set\n",
        "train.rename(columns=d,inplace = True)\n",
        "train.drop(columns=train.columns[-1], axis=1,inplace=True)\n",
        "for i in range(137):\n",
        "  x = []\n",
        "  for j in list(train.iloc[:, i+1]):\n",
        "    x.append(j.split(':')[1])\n",
        "  train.iloc[:, i+1] = x\n",
        "    \n",
        "# test set\n",
        "test.rename(columns=d,inplace = True)\n",
        "test.drop(columns=test.columns[-1], axis=1,inplace=True)\n",
        "for i in range(137):\n",
        "  x = []\n",
        "  for j in list(test.iloc[:, i+1]):\n",
        "    x.append(j.split(':')[1])\n",
        "  test.iloc[:, i+1] = x \n",
        "\n",
        "\n",
        "# validation set\n",
        "val.rename(columns=d,inplace = True)\n",
        "val.drop(columns=val.columns[-1], axis=1,inplace=True)\n",
        "for i in range(137):\n",
        "    x = []\n",
        "    for j in list(val.iloc[:, i+1]):\n",
        "        x.append(j.split(':')[1])\n",
        "    val.iloc[:, i+1] = x"
      ]
    },
    {
      "cell_type": "code",
      "execution_count": null,
      "metadata": {
        "id": "gBOgm8bK4wia",
        "outputId": "1ffde204-4b9a-473f-a1d7-7945a1c29db9",
        "colab": {
          "base_uri": "https://localhost:8080/",
          "height": 876
        }
      },
      "outputs": [
        {
          "output_type": "stream",
          "name": "stdout",
          "text": [
            "The amount of queries in the train dataset:  6000\n",
            "The amount of queries in the test dataset:  2000\n",
            "The amount of queries in the validation dataset:  2000 \n",
            "\n",
            "* different queries have different amounts of documents related to it *\n",
            "The amount of documents associated with qid 1 in train dataset:  86\n",
            "The amount of documents associated with qid 16 in train dataset:  106\n",
            "The amount of documents associated with qid 31 in train dataset:  92\n",
            "\n",
            "* As seen below, some queries have no documents that are relevant *\n"
          ]
        },
        {
          "output_type": "display_data",
          "data": {
            "text/plain": [
              "       relevance    qid  1  2  3  4  5  6  7         8  ... 127 128 129  \\\n",
              "75480          0  10045  3  0  0  0  3  1  0         0  ...  37  13   0   \n",
              "75481          0  10045  0  0  0  0  0  0  0         0  ...  20   0   0   \n",
              "75482          0  10045  3  0  3  2  3  1  0         1  ...  62   1   0   \n",
              "75484          0  10045  3  3  3  0  3  1  1         1  ...  38   2   2   \n",
              "75509          0  10045  3  0  1  0  3  1  0  0.333333  ...  22   0   0   \n",
              "\n",
              "         130    131 132  133 134 135               136  \n",
              "75480   6447  11640   1   18   0   0                 0  \n",
              "75481  50217   9776   1   88   0   2              82.8  \n",
              "75482   1185  45660  16   18   0   0                 0  \n",
              "75484    191  30773  18  118   0   0                 0  \n",
              "75509  61604  25504   1    4   0  14  30.4161904761905  \n",
              "\n",
              "[5 rows x 138 columns]"
            ],
            "text/html": [
              "<div>\n",
              "<style scoped>\n",
              "    .dataframe tbody tr th:only-of-type {\n",
              "        vertical-align: middle;\n",
              "    }\n",
              "\n",
              "    .dataframe tbody tr th {\n",
              "        vertical-align: top;\n",
              "    }\n",
              "\n",
              "    .dataframe thead th {\n",
              "        text-align: right;\n",
              "    }\n",
              "</style>\n",
              "<table border=\"1\" class=\"dataframe\">\n",
              "  <thead>\n",
              "    <tr style=\"text-align: right;\">\n",
              "      <th></th>\n",
              "      <th>relevance</th>\n",
              "      <th>qid</th>\n",
              "      <th>1</th>\n",
              "      <th>2</th>\n",
              "      <th>3</th>\n",
              "      <th>4</th>\n",
              "      <th>5</th>\n",
              "      <th>6</th>\n",
              "      <th>7</th>\n",
              "      <th>8</th>\n",
              "      <th>...</th>\n",
              "      <th>127</th>\n",
              "      <th>128</th>\n",
              "      <th>129</th>\n",
              "      <th>130</th>\n",
              "      <th>131</th>\n",
              "      <th>132</th>\n",
              "      <th>133</th>\n",
              "      <th>134</th>\n",
              "      <th>135</th>\n",
              "      <th>136</th>\n",
              "    </tr>\n",
              "  </thead>\n",
              "  <tbody>\n",
              "    <tr>\n",
              "      <th>75480</th>\n",
              "      <td>0</td>\n",
              "      <td>10045</td>\n",
              "      <td>3</td>\n",
              "      <td>0</td>\n",
              "      <td>0</td>\n",
              "      <td>0</td>\n",
              "      <td>3</td>\n",
              "      <td>1</td>\n",
              "      <td>0</td>\n",
              "      <td>0</td>\n",
              "      <td>...</td>\n",
              "      <td>37</td>\n",
              "      <td>13</td>\n",
              "      <td>0</td>\n",
              "      <td>6447</td>\n",
              "      <td>11640</td>\n",
              "      <td>1</td>\n",
              "      <td>18</td>\n",
              "      <td>0</td>\n",
              "      <td>0</td>\n",
              "      <td>0</td>\n",
              "    </tr>\n",
              "    <tr>\n",
              "      <th>75481</th>\n",
              "      <td>0</td>\n",
              "      <td>10045</td>\n",
              "      <td>0</td>\n",
              "      <td>0</td>\n",
              "      <td>0</td>\n",
              "      <td>0</td>\n",
              "      <td>0</td>\n",
              "      <td>0</td>\n",
              "      <td>0</td>\n",
              "      <td>0</td>\n",
              "      <td>...</td>\n",
              "      <td>20</td>\n",
              "      <td>0</td>\n",
              "      <td>0</td>\n",
              "      <td>50217</td>\n",
              "      <td>9776</td>\n",
              "      <td>1</td>\n",
              "      <td>88</td>\n",
              "      <td>0</td>\n",
              "      <td>2</td>\n",
              "      <td>82.8</td>\n",
              "    </tr>\n",
              "    <tr>\n",
              "      <th>75482</th>\n",
              "      <td>0</td>\n",
              "      <td>10045</td>\n",
              "      <td>3</td>\n",
              "      <td>0</td>\n",
              "      <td>3</td>\n",
              "      <td>2</td>\n",
              "      <td>3</td>\n",
              "      <td>1</td>\n",
              "      <td>0</td>\n",
              "      <td>1</td>\n",
              "      <td>...</td>\n",
              "      <td>62</td>\n",
              "      <td>1</td>\n",
              "      <td>0</td>\n",
              "      <td>1185</td>\n",
              "      <td>45660</td>\n",
              "      <td>16</td>\n",
              "      <td>18</td>\n",
              "      <td>0</td>\n",
              "      <td>0</td>\n",
              "      <td>0</td>\n",
              "    </tr>\n",
              "    <tr>\n",
              "      <th>75484</th>\n",
              "      <td>0</td>\n",
              "      <td>10045</td>\n",
              "      <td>3</td>\n",
              "      <td>3</td>\n",
              "      <td>3</td>\n",
              "      <td>0</td>\n",
              "      <td>3</td>\n",
              "      <td>1</td>\n",
              "      <td>1</td>\n",
              "      <td>1</td>\n",
              "      <td>...</td>\n",
              "      <td>38</td>\n",
              "      <td>2</td>\n",
              "      <td>2</td>\n",
              "      <td>191</td>\n",
              "      <td>30773</td>\n",
              "      <td>18</td>\n",
              "      <td>118</td>\n",
              "      <td>0</td>\n",
              "      <td>0</td>\n",
              "      <td>0</td>\n",
              "    </tr>\n",
              "    <tr>\n",
              "      <th>75509</th>\n",
              "      <td>0</td>\n",
              "      <td>10045</td>\n",
              "      <td>3</td>\n",
              "      <td>0</td>\n",
              "      <td>1</td>\n",
              "      <td>0</td>\n",
              "      <td>3</td>\n",
              "      <td>1</td>\n",
              "      <td>0</td>\n",
              "      <td>0.333333</td>\n",
              "      <td>...</td>\n",
              "      <td>22</td>\n",
              "      <td>0</td>\n",
              "      <td>0</td>\n",
              "      <td>61604</td>\n",
              "      <td>25504</td>\n",
              "      <td>1</td>\n",
              "      <td>4</td>\n",
              "      <td>0</td>\n",
              "      <td>14</td>\n",
              "      <td>30.4161904761905</td>\n",
              "    </tr>\n",
              "  </tbody>\n",
              "</table>\n",
              "<p>5 rows × 138 columns</p>\n",
              "</div>"
            ]
          },
          "metadata": {}
        },
        {
          "output_type": "stream",
          "name": "stdout",
          "text": [
            "\n",
            "* Compared to the query above, the query with qid 10 has documents that have relevance ranging from 0 - 4 *\n"
          ]
        },
        {
          "output_type": "display_data",
          "data": {
            "text/plain": [
              "    relevance qid  1  2  3  4  5         6  7         8  ... 127   128 129  \\\n",
              "0           0  10  2  0  0  0  2  0.666667  0         0  ...  45     1   0   \n",
              "33          0  10  0  0  0  0  0         0  0         0  ...  10     0   0   \n",
              "34          0  10  3  0  3  0  3         1  0         1  ...  47     7   1   \n",
              "37          0  10  0  0  0  0  0         0  0         0  ...  35    11   3   \n",
              "39          0  10  1  0  1  0  1  0.333333  0  0.333333  ...  11     0   0   \n",
              "..        ...  .. .. .. .. .. ..       ... ..       ...  ...  ..   ...  ..   \n",
              "60          2  10  3  0  3  3  3         1  0         1  ...  97     6   0   \n",
              "59          3  10  3  0  3  0  3         1  0         1  ...  20  1896   1   \n",
              "73          4  10  3  0  3  0  3         1  0         1  ...  30  1883   1   \n",
              "23          4  10  3  0  3  0  3         1  0         1  ...  34  1943   1   \n",
              "25          4  10  3  0  3  0  3         1  0         1  ...  30  1884   1   \n",
              "\n",
              "      130    131 132  133   134  135               136  \n",
              "0     117  55115   7    2     0    0                 0  \n",
              "33  27378   2561  62  157     0    0                 0  \n",
              "34   1890  34192   2    1     0    0                 0  \n",
              "37   5145  61346   1    1     0    0                 0  \n",
              "39  62543  34399   1    1     0  318  60.0168778961509  \n",
              "..    ...    ...  ..  ...   ...  ...               ...  \n",
              "60  20177  33213   1    6     0    0                 0  \n",
              "59  21725  35216   1    1     5    0                 0  \n",
              "73  48645  35168   1    1  2241  426  30.1554670902879  \n",
              "23  46900  34605   1    1     0    4               5.8  \n",
              "25  46238  34605   1    1     0   12  71.2380952380952  \n",
              "\n",
              "[93 rows x 138 columns]"
            ],
            "text/html": [
              "<div>\n",
              "<style scoped>\n",
              "    .dataframe tbody tr th:only-of-type {\n",
              "        vertical-align: middle;\n",
              "    }\n",
              "\n",
              "    .dataframe tbody tr th {\n",
              "        vertical-align: top;\n",
              "    }\n",
              "\n",
              "    .dataframe thead th {\n",
              "        text-align: right;\n",
              "    }\n",
              "</style>\n",
              "<table border=\"1\" class=\"dataframe\">\n",
              "  <thead>\n",
              "    <tr style=\"text-align: right;\">\n",
              "      <th></th>\n",
              "      <th>relevance</th>\n",
              "      <th>qid</th>\n",
              "      <th>1</th>\n",
              "      <th>2</th>\n",
              "      <th>3</th>\n",
              "      <th>4</th>\n",
              "      <th>5</th>\n",
              "      <th>6</th>\n",
              "      <th>7</th>\n",
              "      <th>8</th>\n",
              "      <th>...</th>\n",
              "      <th>127</th>\n",
              "      <th>128</th>\n",
              "      <th>129</th>\n",
              "      <th>130</th>\n",
              "      <th>131</th>\n",
              "      <th>132</th>\n",
              "      <th>133</th>\n",
              "      <th>134</th>\n",
              "      <th>135</th>\n",
              "      <th>136</th>\n",
              "    </tr>\n",
              "  </thead>\n",
              "  <tbody>\n",
              "    <tr>\n",
              "      <th>0</th>\n",
              "      <td>0</td>\n",
              "      <td>10</td>\n",
              "      <td>2</td>\n",
              "      <td>0</td>\n",
              "      <td>0</td>\n",
              "      <td>0</td>\n",
              "      <td>2</td>\n",
              "      <td>0.666667</td>\n",
              "      <td>0</td>\n",
              "      <td>0</td>\n",
              "      <td>...</td>\n",
              "      <td>45</td>\n",
              "      <td>1</td>\n",
              "      <td>0</td>\n",
              "      <td>117</td>\n",
              "      <td>55115</td>\n",
              "      <td>7</td>\n",
              "      <td>2</td>\n",
              "      <td>0</td>\n",
              "      <td>0</td>\n",
              "      <td>0</td>\n",
              "    </tr>\n",
              "    <tr>\n",
              "      <th>33</th>\n",
              "      <td>0</td>\n",
              "      <td>10</td>\n",
              "      <td>0</td>\n",
              "      <td>0</td>\n",
              "      <td>0</td>\n",
              "      <td>0</td>\n",
              "      <td>0</td>\n",
              "      <td>0</td>\n",
              "      <td>0</td>\n",
              "      <td>0</td>\n",
              "      <td>...</td>\n",
              "      <td>10</td>\n",
              "      <td>0</td>\n",
              "      <td>0</td>\n",
              "      <td>27378</td>\n",
              "      <td>2561</td>\n",
              "      <td>62</td>\n",
              "      <td>157</td>\n",
              "      <td>0</td>\n",
              "      <td>0</td>\n",
              "      <td>0</td>\n",
              "    </tr>\n",
              "    <tr>\n",
              "      <th>34</th>\n",
              "      <td>0</td>\n",
              "      <td>10</td>\n",
              "      <td>3</td>\n",
              "      <td>0</td>\n",
              "      <td>3</td>\n",
              "      <td>0</td>\n",
              "      <td>3</td>\n",
              "      <td>1</td>\n",
              "      <td>0</td>\n",
              "      <td>1</td>\n",
              "      <td>...</td>\n",
              "      <td>47</td>\n",
              "      <td>7</td>\n",
              "      <td>1</td>\n",
              "      <td>1890</td>\n",
              "      <td>34192</td>\n",
              "      <td>2</td>\n",
              "      <td>1</td>\n",
              "      <td>0</td>\n",
              "      <td>0</td>\n",
              "      <td>0</td>\n",
              "    </tr>\n",
              "    <tr>\n",
              "      <th>37</th>\n",
              "      <td>0</td>\n",
              "      <td>10</td>\n",
              "      <td>0</td>\n",
              "      <td>0</td>\n",
              "      <td>0</td>\n",
              "      <td>0</td>\n",
              "      <td>0</td>\n",
              "      <td>0</td>\n",
              "      <td>0</td>\n",
              "      <td>0</td>\n",
              "      <td>...</td>\n",
              "      <td>35</td>\n",
              "      <td>11</td>\n",
              "      <td>3</td>\n",
              "      <td>5145</td>\n",
              "      <td>61346</td>\n",
              "      <td>1</td>\n",
              "      <td>1</td>\n",
              "      <td>0</td>\n",
              "      <td>0</td>\n",
              "      <td>0</td>\n",
              "    </tr>\n",
              "    <tr>\n",
              "      <th>39</th>\n",
              "      <td>0</td>\n",
              "      <td>10</td>\n",
              "      <td>1</td>\n",
              "      <td>0</td>\n",
              "      <td>1</td>\n",
              "      <td>0</td>\n",
              "      <td>1</td>\n",
              "      <td>0.333333</td>\n",
              "      <td>0</td>\n",
              "      <td>0.333333</td>\n",
              "      <td>...</td>\n",
              "      <td>11</td>\n",
              "      <td>0</td>\n",
              "      <td>0</td>\n",
              "      <td>62543</td>\n",
              "      <td>34399</td>\n",
              "      <td>1</td>\n",
              "      <td>1</td>\n",
              "      <td>0</td>\n",
              "      <td>318</td>\n",
              "      <td>60.0168778961509</td>\n",
              "    </tr>\n",
              "    <tr>\n",
              "      <th>...</th>\n",
              "      <td>...</td>\n",
              "      <td>...</td>\n",
              "      <td>...</td>\n",
              "      <td>...</td>\n",
              "      <td>...</td>\n",
              "      <td>...</td>\n",
              "      <td>...</td>\n",
              "      <td>...</td>\n",
              "      <td>...</td>\n",
              "      <td>...</td>\n",
              "      <td>...</td>\n",
              "      <td>...</td>\n",
              "      <td>...</td>\n",
              "      <td>...</td>\n",
              "      <td>...</td>\n",
              "      <td>...</td>\n",
              "      <td>...</td>\n",
              "      <td>...</td>\n",
              "      <td>...</td>\n",
              "      <td>...</td>\n",
              "      <td>...</td>\n",
              "    </tr>\n",
              "    <tr>\n",
              "      <th>60</th>\n",
              "      <td>2</td>\n",
              "      <td>10</td>\n",
              "      <td>3</td>\n",
              "      <td>0</td>\n",
              "      <td>3</td>\n",
              "      <td>3</td>\n",
              "      <td>3</td>\n",
              "      <td>1</td>\n",
              "      <td>0</td>\n",
              "      <td>1</td>\n",
              "      <td>...</td>\n",
              "      <td>97</td>\n",
              "      <td>6</td>\n",
              "      <td>0</td>\n",
              "      <td>20177</td>\n",
              "      <td>33213</td>\n",
              "      <td>1</td>\n",
              "      <td>6</td>\n",
              "      <td>0</td>\n",
              "      <td>0</td>\n",
              "      <td>0</td>\n",
              "    </tr>\n",
              "    <tr>\n",
              "      <th>59</th>\n",
              "      <td>3</td>\n",
              "      <td>10</td>\n",
              "      <td>3</td>\n",
              "      <td>0</td>\n",
              "      <td>3</td>\n",
              "      <td>0</td>\n",
              "      <td>3</td>\n",
              "      <td>1</td>\n",
              "      <td>0</td>\n",
              "      <td>1</td>\n",
              "      <td>...</td>\n",
              "      <td>20</td>\n",
              "      <td>1896</td>\n",
              "      <td>1</td>\n",
              "      <td>21725</td>\n",
              "      <td>35216</td>\n",
              "      <td>1</td>\n",
              "      <td>1</td>\n",
              "      <td>5</td>\n",
              "      <td>0</td>\n",
              "      <td>0</td>\n",
              "    </tr>\n",
              "    <tr>\n",
              "      <th>73</th>\n",
              "      <td>4</td>\n",
              "      <td>10</td>\n",
              "      <td>3</td>\n",
              "      <td>0</td>\n",
              "      <td>3</td>\n",
              "      <td>0</td>\n",
              "      <td>3</td>\n",
              "      <td>1</td>\n",
              "      <td>0</td>\n",
              "      <td>1</td>\n",
              "      <td>...</td>\n",
              "      <td>30</td>\n",
              "      <td>1883</td>\n",
              "      <td>1</td>\n",
              "      <td>48645</td>\n",
              "      <td>35168</td>\n",
              "      <td>1</td>\n",
              "      <td>1</td>\n",
              "      <td>2241</td>\n",
              "      <td>426</td>\n",
              "      <td>30.1554670902879</td>\n",
              "    </tr>\n",
              "    <tr>\n",
              "      <th>23</th>\n",
              "      <td>4</td>\n",
              "      <td>10</td>\n",
              "      <td>3</td>\n",
              "      <td>0</td>\n",
              "      <td>3</td>\n",
              "      <td>0</td>\n",
              "      <td>3</td>\n",
              "      <td>1</td>\n",
              "      <td>0</td>\n",
              "      <td>1</td>\n",
              "      <td>...</td>\n",
              "      <td>34</td>\n",
              "      <td>1943</td>\n",
              "      <td>1</td>\n",
              "      <td>46900</td>\n",
              "      <td>34605</td>\n",
              "      <td>1</td>\n",
              "      <td>1</td>\n",
              "      <td>0</td>\n",
              "      <td>4</td>\n",
              "      <td>5.8</td>\n",
              "    </tr>\n",
              "    <tr>\n",
              "      <th>25</th>\n",
              "      <td>4</td>\n",
              "      <td>10</td>\n",
              "      <td>3</td>\n",
              "      <td>0</td>\n",
              "      <td>3</td>\n",
              "      <td>0</td>\n",
              "      <td>3</td>\n",
              "      <td>1</td>\n",
              "      <td>0</td>\n",
              "      <td>1</td>\n",
              "      <td>...</td>\n",
              "      <td>30</td>\n",
              "      <td>1884</td>\n",
              "      <td>1</td>\n",
              "      <td>46238</td>\n",
              "      <td>34605</td>\n",
              "      <td>1</td>\n",
              "      <td>1</td>\n",
              "      <td>0</td>\n",
              "      <td>12</td>\n",
              "      <td>71.2380952380952</td>\n",
              "    </tr>\n",
              "  </tbody>\n",
              "</table>\n",
              "<p>93 rows × 138 columns</p>\n",
              "</div>"
            ]
          },
          "metadata": {}
        }
      ],
      "source": [
        "# To see the amount of queries in each dataset\n",
        "\n",
        "train_groups = pd.DataFrame({'qid': train['qid'], 'relevance' :train['relevance']}).groupby('qid')\n",
        "test_groups = pd.DataFrame({'qid': test['qid'], 'relevance' :test['relevance']}).groupby('qid')\n",
        "val_groups = pd.DataFrame({'qid': val['qid'], 'relevance' :val['relevance']}).groupby('qid')\n",
        "print('The amount of queries in the train dataset: ', len(pd.DataFrame({'qid': train['qid'], 'relevance' :train['relevance']}).groupby('qid').groups))\n",
        "print('The amount of queries in the test dataset: ', len(test_groups.groups))\n",
        "print('The amount of queries in the validation dataset: ', len(val_groups.groups),'\\n')\n",
        "\n",
        "print('* different queries have different amounts of documents related to it *')\n",
        "print('The amount of documents associated with qid 1 in train dataset: ', len(train_groups.groups['1']))\n",
        "print('The amount of documents associated with qid 16 in train dataset: ',len(train_groups.groups['16']))\n",
        "print('The amount of documents associated with qid 31 in train dataset: ',len(train_groups.groups['31']))\n",
        "\n",
        "qid_10045 = val[val.qid =='10045']\n",
        "print('\\n* As seen below, some queries have no documents that are relevant *')\n",
        "display(qid_10045.sort_values(by = 'relevance').tail()) # sort lists the entries from lowest to highest\n",
        "\n",
        "qid_10 = val[val.qid =='10']\n",
        "print('\\n* Compared to the query above, the query with qid 10 has documents that have relevance ranging from 0 - 4 *')\n",
        "display(qid_10.sort_values(by = 'relevance')) # sort lists the entries from lowest to highest"
      ]
    },
    {
      "cell_type": "code",
      "execution_count": null,
      "metadata": {
        "id": "QAHUaH1v4wib"
      },
      "outputs": [],
      "source": [
        "# Define the X data and y labels for Linear Regression\n",
        "\n",
        "X_train = train[train.columns[2:]]\n",
        "y_train = train['relevance']\n",
        "X_test = test[test.columns[2:]]\n",
        "y_test = test['relevance']\n",
        "X_val = val[val.columns[2:]]\n",
        "y_val = val['relevance']"
      ]
    },
    {
      "cell_type": "code",
      "execution_count": null,
      "metadata": {
        "id": "L48tMvml4wic"
      },
      "outputs": [],
      "source": [
        "# Convert to XGBoost Data Matrix for XGB LambdaMart Ranking model\n",
        "\n",
        "XGB_training_data = xgb.DMatrix('Downloads/MSLRWEB10K/Fold1/train.txt')\n",
        "XGB_testing_data = xgb.DMatrix('Downloads/MSLRWEB10K/Fold1/test.txt')\n",
        "XGB_validation_data = xgb.DMatrix('Downloads/MSLRWEB10K/Fold1/vali.txt')"
      ]
    },
    {
      "cell_type": "markdown",
      "metadata": {
        "id": "OICi0aAuWclQ"
      },
      "source": [
        "### 4) Build ranking model and test on validation set"
      ]
    },
    {
      "cell_type": "markdown",
      "metadata": {
        "id": "sJXpR3YB4wid"
      },
      "source": [
        "###### Learning to Rank with Linear Regression"
      ]
    },
    {
      "cell_type": "code",
      "execution_count": null,
      "metadata": {
        "id": "_IZQcukA4wid"
      },
      "outputs": [],
      "source": [
        "# Fit Linear Regression model to data using sklearn\n",
        "regr = LinearRegression()\n",
        "regr.fit(X_train,y_train)\n",
        "regr.score(X_train,y_train) #goodness of fit\n",
        "\n",
        "# getting predictions for validation set\n",
        "lin_reg_pred_val = regr.predict(X_val)"
      ]
    },
    {
      "cell_type": "code",
      "execution_count": null,
      "metadata": {
        "id": "kaE2qSm84wie"
      },
      "outputs": [],
      "source": [
        "# create functions to compute nDCG\n",
        "\n",
        "def ndcg_at_k(truth, prediction, k=None):\n",
        "    \"\"\"Returns normalized Discounted Cumulative Gain\n",
        "    Args:\n",
        "        truth (1-D Array): list of relevance in true order\n",
        "        prediction (1-D Array): list of relevance in predicted order\n",
        "        k (int): nDCG calculated on first k entries, default = None\n",
        "    Returns:\n",
        "        ndcg (float): normalized Discounted Cumulative Gain score [0,1] at k\"\"\"\n",
        "    truth = np.sort(truth)[::-1] #sort truth array from highest to lowest relevance\n",
        "    k = min(len(prediction), k) #k will be the minimum of either the length of the data or use given k\n",
        "    log_den = 1 / (np.log2(np.arange(1,k+1) + 1)) #create an array for dcg and idcg denominator\n",
        "    idcg = np.sum(truth[:k] * log_den) #summation of truth value * log denominator array\n",
        "    dcg = np.sum(prediction[:k] * log_den) #summation of predicted value * log denominator array\n",
        "    \n",
        "    return dcg/idcg #return nDCG\n",
        "\n",
        "# function used to apply to all qid groups\n",
        "def all_ndcg_at_k(group, k=None):\n",
        "    truth = np.array(group.truth.tolist())\n",
        "    prediction = np.array(group.sort_values(by = \"predicted\").truth.tolist())\n",
        "    return ndcg_at_k(truth,prediction,k)"
      ]
    },
    {
      "cell_type": "code",
      "execution_count": null,
      "metadata": {
        "id": "6A9k-iQF4wif",
        "colab": {
          "base_uri": "https://localhost:8080/",
          "height": 249
        },
        "outputId": "5e7da87d-5cb8-4019-d67f-648b9a0f18e5"
      },
      "outputs": [
        {
          "output_type": "display_data",
          "data": {
            "text/plain": [
              "qid\n",
              "10       0.516668\n",
              "100      0.608987\n",
              "1000     0.446300\n",
              "10000    0.338311\n",
              "10015    0.453043\n",
              "10030    0.500000\n",
              "10045         NaN\n",
              "10060    0.687932\n",
              "10075    0.490889\n",
              "10090    0.168788\n",
              "dtype: float64"
            ]
          },
          "metadata": {}
        },
        {
          "output_type": "stream",
          "name": "stdout",
          "text": [
            "* NaN values are due to querries that have documents that are all 0 in the relevant scale *\n"
          ]
        }
      ],
      "source": [
        "lin_reg_pred_df = pd.DataFrame({'qid': val['qid'], 'truth' :y_val, 'predicted' : lin_reg_pred_val})\n",
        "lin_reg_groups = lin_reg_pred_df.groupby('qid')\n",
        "lin_reg_ndcg_score = lin_reg_groups.apply(all_ndcg_at_k, k=100) \n",
        "display(lin_reg_ndcg_score.head(10))\n",
        "print('* NaN values are due to querries that have documents that are all 0 in the relevant scale *')"
      ]
    },
    {
      "cell_type": "code",
      "execution_count": null,
      "metadata": {
        "id": "imkt2VNH4wif",
        "colab": {
          "base_uri": "https://localhost:8080/"
        },
        "outputId": "a2a676db-26aa-48b8-df45-b977a6dca8b5"
      },
      "outputs": [
        {
          "output_type": "stream",
          "name": "stdout",
          "text": [
            "The Mean Squared Error is: 0.6051755110970498\n",
            "The average of all the qid group nDCGs: 0.47256748855540126\n",
            "* average nDCG scores increase as k increase *\n"
          ]
        }
      ],
      "source": [
        "# evaluating how well model does on validation set\n",
        "mse = mean_squared_error(lin_reg_pred_val, y_val)\n",
        "print(f'The Mean Squared Error is: {mse}')\n",
        "print(f'The average of all the qid group nDCGs:', np.nanmean(lin_reg_ndcg_score)) \n",
        "print('* average nDCG scores increase as k increase *')"
      ]
    },
    {
      "cell_type": "code",
      "execution_count": null,
      "metadata": {
        "id": "8YVm64Yt4wig",
        "colab": {
          "base_uri": "https://localhost:8080/",
          "height": 374
        },
        "outputId": "4bb6dd98-2df8-49d2-f9fc-b9fa7d34c4c7"
      },
      "outputs": [
        {
          "output_type": "display_data",
          "data": {
            "text/plain": [
              "<Figure size 432x288 with 1 Axes>"
            ],
            "image/png": "[encoded data removed]"
          },
          "metadata": {
            "needs_background": "light"
          }
        },
        {
          "output_type": "stream",
          "name": "stdout",
          "text": [
            "From the above graph, we can tell that:\n",
            "\t • documents with higher relevance have smaller predicted score ranges (range not including outliers)\n",
            "\t • predicted scores range from around -14 to 7\n",
            "\t • documents with relevance of 0 has the most variation/outliers in predicted score\n"
          ]
        }
      ],
      "source": [
        "plt.scatter(x=y_val, y=lin_reg_pred_val, c = 'navy', alpha = .4)\n",
        "\n",
        "plt.xlabel('True Labels', fontsize=14)\n",
        "plt.ylabel('Predicted Scores', fontsize=14)\n",
        "plt.title('Actual vs Predicted Scores', fontsize = 17)\n",
        "\n",
        "plt.show()\n",
        "\n",
        "print('From the above graph, we can tell that:')\n",
        "print('\\t \\u2022 documents with higher relevance have smaller predicted score ranges (range not including outliers)')\n",
        "print('\\t \\u2022 predicted scores range from around -14 to 7')\n",
        "print('\\t \\u2022 documents with relevance of 0 has the most variation/outliers in predicted score')"
      ]
    },
    {
      "cell_type": "markdown",
      "metadata": {
        "id": "CqoCqOAV4wih"
      },
      "source": [
        "###### Learning to Rank with XGBoost LambdaRank (Pair-wise Ranking) and LambdaMart (List-wise Ranking) "
      ]
    },
    {
      "cell_type": "code",
      "execution_count": null,
      "metadata": {
        "id": "Mg2gFdZW4wih"
      },
      "outputs": [],
      "source": [
        "# LamdaRank (Pair-wise Ranking)\n",
        "\n",
        "# Define the model and fit to data \n",
        "lambdaRank_model = xgb.train(\n",
        "    {'objective':'rank:pairwise',\n",
        "     'max_depth': 2,\n",
        "     'eta': 0.1,\n",
        "     'seed': 279,\n",
        "     'tree_method': 'approx'},\n",
        "    XGB_training_data,\n",
        "    num_boost_round = 5)\n",
        "\n",
        "# Predict scores\n",
        "lr_pred = lambdaRank_model.predict(XGB_validation_data)"
      ]
    },
    {
      "cell_type": "code",
      "execution_count": null,
      "metadata": {
        "id": "DXYPCCbg4wii",
        "colab": {
          "base_uri": "https://localhost:8080/",
          "height": 267
        },
        "outputId": "93d127f3-95e4-4d59-a418-6b394d82c152"
      },
      "outputs": [
        {
          "output_type": "display_data",
          "data": {
            "text/plain": [
              "qid\n",
              "10       0.531915\n",
              "100      0.578286\n",
              "1000     0.513512\n",
              "10000    0.410372\n",
              "10015    0.397349\n",
              "10030    0.630930\n",
              "10045         NaN\n",
              "10060    0.699835\n",
              "10075    0.533585\n",
              "10090    0.195328\n",
              "dtype: float64"
            ]
          },
          "metadata": {}
        },
        {
          "output_type": "stream",
          "name": "stdout",
          "text": [
            "The Mean Squared Error is:  0.6962045418899816\n",
            "The average of all the qid group nDCGs: 0.49277894921586435\n"
          ]
        }
      ],
      "source": [
        "# Create data frame of qid, true labels, and predicted scores\n",
        "lr_pred_df = pd.DataFrame({'qid': val['qid'], 'truth':y_val, 'predicted': lr_pred})\n",
        "\n",
        "# group data by qid\n",
        "lr_groups = lr_pred_df.groupby('qid')\n",
        "\n",
        "# calculate nDCG on all qid groups\n",
        "lr_ndcg_score = lr_groups.apply(all_ndcg_at_k, k=100) \n",
        "display(lr_ndcg_score.head(10))\n",
        "print('The Mean Squared Error is: ', mean_squared_error(lr_pred, y_val))\n",
        "print('The average of all the qid group nDCGs:', np.nanmean(lr_ndcg_score)) "
      ]
    },
    {
      "cell_type": "code",
      "execution_count": null,
      "metadata": {
        "id": "frHrBKmTSUsq"
      },
      "outputs": [],
      "source": [
        "# LamdaMart (List-wise Ranking)\n",
        "\n",
        "# Define the model and fit to data \n",
        "lambdaMart_model = xgb.train(\n",
        "    {'objective':'rank:ndcg',\n",
        "     'max_depth': 2,\n",
        "     'eta': 0.1,\n",
        "     'seed': 279,},\n",
        "    XGB_training_data,\n",
        "    num_boost_round = 5)\n",
        "\n",
        "# Predict scores\n",
        "lm_pred = lambdaMart_model.predict(XGB_validation_data)"
      ]
    },
    {
      "cell_type": "code",
      "execution_count": null,
      "metadata": {
        "id": "5GozCSco4wij",
        "colab": {
          "base_uri": "https://localhost:8080/",
          "height": 267
        },
        "outputId": "e26abbdc-a13b-49b0-d840-1fc2ec8bef90"
      },
      "outputs": [
        {
          "output_type": "display_data",
          "data": {
            "text/plain": [
              "qid\n",
              "10       0.538541\n",
              "100      0.598432\n",
              "1000     0.532945\n",
              "10000    0.407622\n",
              "10015    0.390917\n",
              "10030    0.630930\n",
              "10045         NaN\n",
              "10060    0.682414\n",
              "10075    0.462021\n",
              "10090    0.246491\n",
              "dtype: float64"
            ]
          },
          "metadata": {}
        },
        {
          "output_type": "stream",
          "name": "stdout",
          "text": [
            "The Mean Squared Error is:  0.690297870335471\n",
            "The average of all the qid group nDCGs: 0.5038547445714483\n"
          ]
        }
      ],
      "source": [
        "# Create data frame of qid, true labels, and predicted scores\n",
        "lm_pred_df = pd.DataFrame({'qid': val['qid'], 'truth':y_val, 'predicted': lm_pred})\n",
        "lm_groups = lm_pred_df.groupby('qid')\n",
        "lm_ndcg_score = lm_groups.apply(all_ndcg_at_k, k=100) \n",
        "display(lm_ndcg_score.head(10))\n",
        "print('The Mean Squared Error is: ', mean_squared_error(lm_pred, y_val))\n",
        "print('The average of all the qid group nDCGs:', np.nanmean(lm_ndcg_score)) "
      ]
    },
    {
      "cell_type": "code",
      "execution_count": null,
      "metadata": {
        "id": "tCtsO41X4wij"
      },
      "outputs": [],
      "source": [
        "#Since LambdaMart produced the best nDCG score, we'll continue to use the model\n",
        "\n",
        "# Define the model with different eta and fit to data \n",
        "# adjusting eta allows for correction of over/under fitting\n",
        "lambdaMart_model_small_eta = xgb.train(\n",
        "    {'objective':'rank:ndcg',\n",
        "     'max_depth': 2,\n",
        "     'eta': 0.0000001,\n",
        "     'seed': 279,},\n",
        "    XGB_training_data,\n",
        "    num_boost_round = 5)\n",
        "\n",
        "# Predict scores\n",
        "lm_pred_small_eta = lambdaMart_model_small_eta.predict(XGB_validation_data)"
      ]
    },
    {
      "cell_type": "code",
      "execution_count": null,
      "metadata": {
        "id": "O6ujk_r74wik",
        "colab": {
          "base_uri": "https://localhost:8080/",
          "height": 267
        },
        "outputId": "43a86968-52d2-4393-aea3-5df0bdf79e32"
      },
      "outputs": [
        {
          "output_type": "display_data",
          "data": {
            "text/plain": [
              "qid\n",
              "10       0.546666\n",
              "100      0.592464\n",
              "1000     0.551302\n",
              "10000    0.402560\n",
              "10015    0.395734\n",
              "10030    0.630930\n",
              "10045         NaN\n",
              "10060    0.746701\n",
              "10075    0.518688\n",
              "10090    0.314994\n",
              "dtype: float64"
            ]
          },
          "metadata": {}
        },
        {
          "output_type": "stream",
          "name": "stdout",
          "text": [
            "The Mean Squared Error is:  0.7205877279315275\n",
            "The average of all the qid group nDCGs: 0.5206019427409502\n"
          ]
        }
      ],
      "source": [
        "# Create data frame of qid, true labels, and predicted scores\n",
        "lm_pred_small_eta_df = pd.DataFrame({'qid': val['qid'], 'truth':y_val, 'predicted': lm_pred_small_eta})\n",
        "\n",
        "# group data by qid\n",
        "lm_small_eta_groups = lm_pred_small_eta_df.groupby('qid')\n",
        "\n",
        "# calculate nDCG on all qid groups\n",
        "lm_small_eta_ndcg_score = lm_small_eta_groups.apply(all_ndcg_at_k, k=100) \n",
        "display(lm_small_eta_ndcg_score.head(10))\n",
        "print('The Mean Squared Error is: ', mean_squared_error(lm_pred_small_eta, y_val))\n",
        "print('The average of all the qid group nDCGs:', np.nanmean(lm_small_eta_ndcg_score)) "
      ]
    },
    {
      "cell_type": "markdown",
      "metadata": {
        "id": "BBtVqWRSWx_g"
      },
      "source": [
        "### 5) Evaluate model performance"
      ]
    },
    {
      "cell_type": "markdown",
      "metadata": {
        "id": "FpaP8jesTQMj"
      },
      "source": [
        "###### Out of the 3 models shown above, the XGBoost LambdaMart model performed the best on the validation set. Therefore, I will be evaluating that model's performance on the test set."
      ]
    },
    {
      "cell_type": "code",
      "execution_count": null,
      "metadata": {
        "id": "EoUoDcCq4wil",
        "colab": {
          "base_uri": "https://localhost:8080/",
          "height": 267
        },
        "outputId": "885b9695-2ecc-4da6-a722-c2c35812fbe4"
      },
      "outputs": [
        {
          "output_type": "display_data",
          "data": {
            "text/plain": [
              "qid\n",
              "10003    0.458293\n",
              "10018         NaN\n",
              "1003     0.542167\n",
              "10033    0.433920\n",
              "10048    0.406465\n",
              "10063    0.375651\n",
              "10078    0.388718\n",
              "10093    0.517295\n",
              "10108    0.166358\n",
              "10123    0.497726\n",
              "dtype: float64"
            ]
          },
          "metadata": {}
        },
        {
          "output_type": "stream",
          "name": "stdout",
          "text": [
            "The Mean Squared Error is:  0.7253292595164605\n",
            "The average of all the qid group nDCGs: 0.5167650855540964\n"
          ]
        }
      ],
      "source": [
        "# Predict scores using the small eta model\n",
        "final_pred = lambdaMart_model_small_eta.predict(XGB_testing_data)\n",
        "\n",
        "# Create data frame of qid, true labels, and predicted scores\n",
        "final_pred_df = pd.DataFrame({'qid': test['qid'], 'truth':y_test, 'predicted': final_pred})\n",
        "\n",
        "# group data by qid\n",
        "final_groups = final_pred_df.groupby('qid')\n",
        "\n",
        "# calculate nDCG on all qid groups\n",
        "final_ndcg_score = final_groups.apply(all_ndcg_at_k, k=100) \n",
        "display(final_ndcg_score.head(10))\n",
        "print('The Mean Squared Error is: ', mean_squared_error(final_pred, y_test))\n",
        "print('The average of all the qid group nDCGs:', np.nanmean(final_ndcg_score))"
      ]
    },
    {
      "cell_type": "markdown",
      "metadata": {
        "id": "yo89zS_g--XG"
      },
      "source": [
        "# Discussion"
      ]
    },
    {
      "cell_type": "markdown",
      "source": [
        "**Explanation of thought process and reasoning behind models and evaluation metrics used**"
      ],
      "metadata": {
        "id": "roMcnD6Gj4gj"
      }
    },
    {
      "cell_type": "markdown",
      "metadata": {
        "id": "4Ruh_6aWuZX_"
      },
      "source": [
        "There were 3 models that I tested for this project, which are linear regression for point-wise ranking, lambdaRank for pair-wise ranking, and lambdaMart for list-wise ranking. There are many reasons why I decided to evaluate 3 different models. These some of the reason are that:\n",
        "- Linear regression is a commonly used model in ML and is a model I'm very familiar with, so it was interesting to see it's effectiveness in learning to rank.\n",
        "- Decision trees (XGBoost's lambdaMart) are also very popular among supervised learning methods and I wanted to familiarize myself with XGBoost's library.\n",
        "- I wanted to explore and gain more experience in deep learning models, which is why I decided to use XGBoost's lambdaRank (a neural network)\n",
        "- The final model I decided on using for testing was lambdaMart due to it having performed the best in terms of nDCG score on the validation set.\n",
        "\n",
        "I chose 2 different metrics to evaluate my models: Mean Squared Error (MSE) and Normalized Discounted Cumulative Gain (nDCG).\n",
        "- I decided to use MSE because linear regression works to minimize MSE, therefore I wanted to see how well the model performed in terms of minimizing it's loss function compared to the minimizing MSE performance of the other models. In term's of minimizing MSE the linear regression model did the best, but in terms of average nDCG score among the query groups it produced the worst result.\n",
        "- An nDCG score ranges from 0 to 1 (1 means that the rankings were 100% accurate and the list returned was the optimal list, whereas 0 means the model performed terribly). The reason for chooosing nDCG as a metric of evaluation is that it is a better determination of success in terms of learning to rank. It takes into consideration that we care more about the difference in top ranking documents and positions rather than the bottom part of the ranking list. I decided on using the nDCG@k metric since it takes into consideration only the k (k in this case was 100) top documents, which is better in terms of comparing how well the models did among query groups of all different sizes.\n",
        "- Compare to MSE, nDCG is a better metric due to the fact that MSE measures accuracy depending on the distance between predicted scores and true ranking position rather than the diffrence in predicted rank and true rank. Predicted scores don't have as much meaning to the objective as the predicted rank does. Therefore, the metric I put more emphasis on improving was the nDCG score.\n",
        "\n",
        "In terms of final model (lambdaMart/List-wise ranking) performace, my model produced a 51.7% accuracy. This accuracy is dependent on only the top 100 ranked documents for each query. I believe good accuracy and performace is dependent on the situation. If was wanted to produce the exact same ranking list given, then 51.7% wouldn't be as ideal. However, I believe that everyone wouldn't have the exact same ranking list in mind when searching a query. For better words, what one person deems a relevant document might not be the same as what another deems relevant. Because of this, I believe it is okay to have a little room for error in terms of nDCG score. Given this, I think performance accuracy of 60%-80% would be ideal and my model doesn't quite hit the mark.\n",
        "\n",
        "If I had more time, I would have wanted to explore the linear regression model a little more. Compared to the the neural network and decision tree it didn't too horribly with an accuracy score of 47.3% on the validation set. In order to improve the model, I would have tested for multicollinearity by looking at the feature's Variance Inflation Factor. I'd also want to analyzed the feature's p-values to determine their significance.\n",
        "\n",
        "Id also want to explore and learn more in depth about XGBoost's model parameters and how they could help me increase accuracy. For example, the 'eta' parameter used above for the lambdaMart and lambdaRank models is used for ensuring that there isn't over/under fitting, which is why my performace increased when I lowered the size of the parameter.\n",
        "\n",
        "I would also have wanted to try these models all the different data files available. I was only able to train, validate, and test on the files in folder 1, but it'd be interesting to see if the performance would change if the model were trained and tested on a different data set."
      ]
    },
    {
      "cell_type": "markdown",
      "source": [
        "**Other features that could provide to be of help towards the performace of the three models:**"
      ],
      "metadata": {
        "id": "aPz_oBlAjiot"
      }
    },
    {
      "cell_type": "markdown",
      "metadata": {
        "id": "XJGp9xC2uVK3"
      },
      "source": [
        "I believe that user_id would be a great feature to include, this is because relevancey could depend on the user that is searching the query. I think along with user_id another feature that could help would be data on previously searched queries. If a user has searched a query and didn't find a document fit to their needs, they would likely rephrase the query. Having data on previously search queries could offer a way to ensure that the user doesnt keep seeing the same top documents even after rephrasing their query. \n",
        "\n",
        "Access to features like query_text, title_text, body_text, and document_url could also prove to be helpful. If given access to features, I could put more emphasis on certain words in the query. For example, words like \"who\", \"what\", \"why\", \"when\", and \"where\" provide more importance to ranking results than words like 'a', 'the', 'it', etc. By putting emphasis on certain words in the query text, we can determine a score on how often it appears in the title, body, or url. We could also determine how soon in the document that the words are seen. Url information is also very important, especially domain name. If creating a search engine, we wouldn't want to list dangerous documents at the top even though they might perfectly match the query."
      ]
    },
    {
      "cell_type": "markdown",
      "metadata": {
        "id": "iy73cbghWBM3"
      },
      "source": [
        "### 8) Please submit your colab by sharing it with: cmaon@oreilly.com and rlandry@oreilly.com\n"
      ]
    }
  ],
  "metadata": {
    "colab": {
      "name": "Learning To Rank.ipynb",
      "provenance": [],
      "collapsed_sections": [],
      "include_colab_link": true
    },
    "kernelspec": {
      "display_name": "Python 3",
      "language": "python",
      "name": "python3"
    },
    "language_info": {
      "codemirror_mode": {
        "name": "ipython",
        "version": 3
      },
      "file_extension": ".py",
      "mimetype": "text/x-python",
      "name": "python",
      "nbconvert_exporter": "python",
      "pygments_lexer": "ipython3",
      "version": "3.8.5"
    }
  },
  "nbformat": 4,
  "nbformat_minor": 0
}